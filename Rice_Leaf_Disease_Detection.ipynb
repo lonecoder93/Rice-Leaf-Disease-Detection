{
  "nbformat": 4,
  "nbformat_minor": 0,
  "metadata": {
    "colab": {
      "provenance": [],
      "authorship_tag": "ABX9TyO5kX9ZUb55Ww5jyEuvJ4aP",
      "include_colab_link": true
    },
    "kernelspec": {
      "name": "python3",
      "display_name": "Python 3"
    },
    "language_info": {
      "name": "python"
    }
  },
  "cells": [
    {
      "cell_type": "markdown",
      "metadata": {
        "id": "view-in-github",
        "colab_type": "text"
      },
      "source": [
        "<a href=\"https://colab.research.google.com/github/lonecoder93/Rice-Leaf-Disease-Detection/blob/main/Rice_Leaf_Disease_Detection.ipynb\" target=\"_parent\"><img src=\"https://colab.research.google.com/assets/colab-badge.svg\" alt=\"Open In Colab\"/></a>"
      ]
    },
    {
      "cell_type": "markdown",
      "source": [
        "\n",
        "\n",
        "# Problem Statement\n",
        "\n",
        "Create a model which can classify the three major attacking diseases of rice plants like leaf smut, bacterial blight and brown spot."
      ],
      "metadata": {
        "id": "H16ldA6GpUZg"
      }
    },
    {
      "cell_type": "code",
      "execution_count": null,
      "metadata": {
        "colab": {
          "base_uri": "https://localhost:8080/"
        },
        "id": "p8IopFnxi85Q",
        "outputId": "3fa33c55-2d1e-4be5-fd96-f024bddf5adf"
      },
      "outputs": [
        {
          "output_type": "stream",
          "name": "stdout",
          "text": [
            "Mounted at /content/gdrive\n"
          ]
        }
      ],
      "source": [
        "# Connecting to Google Drive\n",
        "from google.colab import drive\n",
        "drive.mount('/content/gdrive')"
      ]
    },
    {
      "cell_type": "code",
      "source": [
        "# Changing directory to Google Drive\n",
        "%cd /content/gdrive"
      ],
      "metadata": {
        "colab": {
          "base_uri": "https://localhost:8080/"
        },
        "id": "Hysk8TIrjDfI",
        "outputId": "9816fe9c-d4f3-4dfe-b101-e07e1af078c7"
      },
      "execution_count": null,
      "outputs": [
        {
          "output_type": "stream",
          "name": "stdout",
          "text": [
            "/content/gdrive\n"
          ]
        }
      ]
    },
    {
      "cell_type": "code",
      "source": [
        "# importing libraries & Packages\n",
        "from keras.preprocessing.image import ImageDataGenerator\n",
        "from keras.models import Sequential\n",
        "from keras.layers import Conv2D, MaxPooling2D, Activation, Dropout, Flatten, Dense\n",
        "\n",
        "-----------------------------------------------------------------------------------------------------------\n",
        "\n",
        "# CNN Architecture\n",
        "datagen = ImageDataGenerator(\n",
        "    rotation_range=90, width_shift_range=0.2, height_shift_range=0.2,\n",
        "    rescale=1./255, shear_range=0.5, zoom_range=0.5, horizontal_flip=True, fill_mode=\"nearest\")\n",
        "\n",
        "model = Sequential()\n",
        "model.add(Conv2D(32, (3, 3), input_shape=(150, 150, 3)))\n",
        "model.add(Activation('relu'))\n",
        "model.add(MaxPooling2D(pool_size=(2, 2)))\n",
        "\n",
        "model.add(Conv2D(32, (3, 3)))\n",
        "model.add(Activation('relu'))\n",
        "model.add(MaxPooling2D(pool_size=(2, 2)))\n",
        "\n",
        "model.add(Conv2D(32, (3, 3)))\n",
        "model.add(Activation('relu'))\n",
        "model.add(MaxPooling2D(pool_size=(2, 2)))\n",
        "\n",
        "model.add(Conv2D(32, (3, 3)))\n",
        "model.add(Activation('relu'))\n",
        "model.add(MaxPooling2D(pool_size=(2, 2)))\n",
        "\n",
        "model.add(Conv2D(64, (3, 3)))\n",
        "model.add(Activation('relu'))\n",
        "model.add(MaxPooling2D(pool_size=(2, 2)))\n",
        "\n",
        "-----------------------------------------------------------------------------------------------------------\n",
        "\n",
        "# Flattening\n",
        "model.add(Flatten())\n",
        "model.add(Dense(64))\n",
        "model.add(Activation('relu'))\n",
        "#model.add(Dropout(0.5))\n",
        "model.add(Dense(3))  # Number of output neurons is 3\n",
        "model.add(Activation('softmax'))\n",
        "\n",
        "-----------------------------------------------------------------------------------------------------------\n",
        "\n",
        "# Compiling the model\n",
        "model.compile(loss='categorical_crossentropy', optimizer='rmsprop', metrics=['accuracy'])\n",
        "\n",
        "-----------------------------------------------------------------------------------------------------------\n",
        "\n",
        "# Train Test Split\n",
        "batch_size = 5\n",
        "\n",
        "train_datagen = ImageDataGenerator(\n",
        "    rescale=1./255, shear_range=0.2, zoom_range=0.2, horizontal_flip=True\n",
        ")\n",
        "\n",
        "test_datagen = ImageDataGenerator(rescale=1./255)\n",
        "\n",
        "train_generator = train_datagen.flow_from_directory('/content/gdrive/MyDrive/Rice Leaf/Train', target_size=(150, 150), batch_size=batch_size, class_mode='categorical', shuffle=True)\n",
        "\n",
        "validation_generator = test_datagen.flow_from_directory('/content/gdrive/MyDrive/Rice Leaf/Test', target_size=(150, 150), batch_size=batch_size, class_mode='categorical')\n",
        "\n",
        "-----------------------------------------------------------------------------------------------------------\n",
        "\n",
        "# Model Fitting\n",
        "from keras.callbacks import EarlyStopping\n",
        "\n",
        "early_stopping = EarlyStopping(monitor='val_loss', patience=10, restore_best_weights=True)\n",
        "\n",
        "model.fit(\n",
        "    train_generator,\n",
        "    steps_per_epoch=len(train_generator),\n",
        "    epochs=50,\n",
        "    validation_data=validation_generator,\n",
        "    validation_steps=len(validation_generator),\n",
        "    callbacks=[early_stopping]\n",
        ")\n"
      ],
      "metadata": {
        "colab": {
          "base_uri": "https://localhost:8080/"
        },
        "id": "iUiF58I6jJgd",
        "outputId": "a1f7b132-4e58-4195-a262-37d029730814"
      },
      "execution_count": null,
      "outputs": [
        {
          "output_type": "stream",
          "name": "stdout",
          "text": [
            "Found 105 images belonging to 3 classes.\n",
            "Found 15 images belonging to 3 classes.\n",
            "Epoch 1/50\n",
            "21/21 [==============================] - 39s 2s/step - loss: 1.1065 - accuracy: 0.3524 - val_loss: 1.0983 - val_accuracy: 0.4667\n",
            "Epoch 2/50\n",
            "21/21 [==============================] - 5s 253ms/step - loss: 1.0866 - accuracy: 0.4095 - val_loss: 1.0873 - val_accuracy: 0.4000\n",
            "Epoch 3/50\n",
            "21/21 [==============================] - 7s 351ms/step - loss: 1.0471 - accuracy: 0.5714 - val_loss: 1.0397 - val_accuracy: 0.4000\n",
            "Epoch 4/50\n",
            "21/21 [==============================] - 5s 239ms/step - loss: 0.9993 - accuracy: 0.5333 - val_loss: 1.1543 - val_accuracy: 0.4000\n",
            "Epoch 5/50\n",
            "21/21 [==============================] - 7s 354ms/step - loss: 0.9746 - accuracy: 0.6000 - val_loss: 1.1256 - val_accuracy: 0.4000\n",
            "Epoch 6/50\n",
            "21/21 [==============================] - 5s 257ms/step - loss: 0.8787 - accuracy: 0.5905 - val_loss: 1.1545 - val_accuracy: 0.4000\n",
            "Epoch 7/50\n",
            "21/21 [==============================] - 9s 429ms/step - loss: 0.8304 - accuracy: 0.6667 - val_loss: 1.1823 - val_accuracy: 0.4667\n",
            "Epoch 8/50\n",
            "21/21 [==============================] - 5s 257ms/step - loss: 0.8290 - accuracy: 0.6571 - val_loss: 1.2607 - val_accuracy: 0.4000\n",
            "Epoch 9/50\n",
            "21/21 [==============================] - 5s 240ms/step - loss: 0.7868 - accuracy: 0.7048 - val_loss: 1.2889 - val_accuracy: 0.4000\n",
            "Epoch 10/50\n",
            "21/21 [==============================] - 5s 233ms/step - loss: 0.7722 - accuracy: 0.6952 - val_loss: 1.3142 - val_accuracy: 0.3333\n",
            "Epoch 11/50\n",
            "21/21 [==============================] - 6s 262ms/step - loss: 0.7153 - accuracy: 0.6857 - val_loss: 1.4868 - val_accuracy: 0.4000\n",
            "Epoch 12/50\n",
            "21/21 [==============================] - 7s 329ms/step - loss: 0.6827 - accuracy: 0.6857 - val_loss: 1.4886 - val_accuracy: 0.4000\n",
            "Epoch 13/50\n",
            "21/21 [==============================] - 6s 289ms/step - loss: 0.7501 - accuracy: 0.6476 - val_loss: 1.3322 - val_accuracy: 0.2667\n"
          ]
        },
        {
          "output_type": "execute_result",
          "data": {
            "text/plain": [
              "<keras.callbacks.History at 0x7c1438223fd0>"
            ]
          },
          "metadata": {},
          "execution_count": 5
        }
      ]
    },
    {
      "cell_type": "code",
      "source": [
        "# Saving pre-trained model\n",
        "model.save(\"/content/gdrive/MyDrive/Rice Leaf/trained_model_1.h5\")"
      ],
      "metadata": {
        "id": "OTKmcwj7lA7a"
      },
      "execution_count": null,
      "outputs": []
    },
    {
      "cell_type": "code",
      "source": [
        "# Testing the model\n",
        "\n",
        "from keras.models import load_model\n",
        "from tensorflow.keras.preprocessing.image import img_to_array, array_to_img, load_img\n",
        "\n",
        "\n",
        "import numpy as np\n",
        "\n",
        "# Load the trained model\n",
        "model = load_model(\"/content/gdrive/MyDrive/Rice Leaf/trained_model.h5\")\n",
        "\n",
        "# Load the image. This image for Bacterical leaf blight has been downloaded from google with more complex background\n",
        "img = load_img(\"/content/gdrive/MyDrive/Validation/Bacterial leaf blight.jpg\")\n",
        "\n",
        "# Resize the image to the desired input size\n",
        "x = img_to_array(img.resize([150, 150]))\n",
        "\n",
        "# Expand dimensions to match the expected input shape of the model (1, 150, 150, 3)\n",
        "x = np.expand_dims(x, axis=0)\n",
        "\n",
        "# Replace 'model' with the name of your trained model variable\n",
        "predictions = model.predict(x)\n",
        "\n",
        "# Get the predicted class index (0, 1, or 2) with the highest probability\n",
        "predicted_class_index = np.argmax(predictions)\n",
        "\n",
        "# Map the class index to class labels (modify as per your class labels)\n",
        "class_labels = [\"Bacteral leaf blight\", \"brown spot\", \"leaf smut\"]\n",
        "predicted_class_label = class_labels[predicted_class_index]\n",
        "\n",
        "print(\"Predicted Class:\", predicted_class_label)"
      ],
      "metadata": {
        "colab": {
          "base_uri": "https://localhost:8080/"
        },
        "id": "OnykpzAalnZN",
        "outputId": "6b3140ec-4473-47cc-c9e1-75a4176f035c"
      },
      "execution_count": null,
      "outputs": [
        {
          "output_type": "stream",
          "name": "stdout",
          "text": [
            "1/1 [==============================] - 0s 154ms/step\n",
            "Predicted Class: Bacteral leaf blight\n"
          ]
        }
      ]
    },
    {
      "cell_type": "code",
      "source": [
        "# Load the image. This image for brown spot has been downloaded from google with more complex background\n",
        "img = load_img(\"/content/gdrive/MyDrive/Validation/Brown Spot.JPG\")\n",
        "\n",
        "print(\"Predicted Class:\", predicted_class_label)"
      ],
      "metadata": {
        "id": "ZNNUAEztBMkU",
        "colab": {
          "base_uri": "https://localhost:8080/"
        },
        "outputId": "79884d92-3a78-4bc4-f5c2-61d9af0bc466"
      },
      "execution_count": null,
      "outputs": [
        {
          "output_type": "stream",
          "name": "stdout",
          "text": [
            "Predicted Class: brown spot\n"
          ]
        }
      ]
    },
    {
      "cell_type": "code",
      "source": [
        "# Load the image. This image for brown spot has been downloaded from google with more complex background\n",
        "img = load_img(\"/content/gdrive/MyDrive/Validation/leaf smut.jpg\")\n",
        "\n",
        "print(\"Predicted Class:\", predicted_class_label)"
      ],
      "metadata": {
        "colab": {
          "base_uri": "https://localhost:8080/"
        },
        "id": "komXzM2SrM5j",
        "outputId": "901212c0-0523-4190-b1cc-d233c458840a"
      },
      "execution_count": null,
      "outputs": [
        {
          "output_type": "stream",
          "name": "stdout",
          "text": [
            "Predicted Class: brown spot\n"
          ]
        }
      ]
    },
    {
      "cell_type": "markdown",
      "source": [
        "# Conclusion\n",
        "The model accurately identifies bacterial leaf blight and brown spot. However, when it comes to leaf smut, it tends to classify it as brown spot. This could be due to the limited visual distinction between brown spot and leaf smut and very small amount of data available."
      ],
      "metadata": {
        "id": "vtCeKHIIsoVA"
      }
    }
  ]
}